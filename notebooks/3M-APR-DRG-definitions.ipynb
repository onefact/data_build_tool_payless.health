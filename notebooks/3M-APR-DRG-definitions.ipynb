{
 "cells": [
  {
   "cell_type": "markdown",
   "metadata": {},
   "source": [
    "# All Patient Refined Diagnosis Related Groups (APR-DRGs) Definitions \n",
    "\n",
    "https://hcup-us.ahrq.gov/db/nation/nis/v25_aprdrg_meth_ovrview.pdf \n",
    "\n",
    "search for `apr drg \"mdc\"`:\n",
    "https://www.hca.wa.gov/assets/billers-and-providers/ipps-drg-grpr-20220701.xls"
   ]
  },
  {
   "cell_type": "code",
   "execution_count": 8,
   "metadata": {},
   "outputs": [
    {
     "name": "stdout",
     "output_type": "stream",
     "text": [
      "--2023-09-13 14:00:56--  https://www.hca.wa.gov/assets/billers-and-providers/ipps-drg-grpr-20220701.xls\n",
      "Resolving www.hca.wa.gov (www.hca.wa.gov)... 54.245.106.105\n",
      "Connecting to www.hca.wa.gov (www.hca.wa.gov)|54.245.106.105|:443... connected.\n",
      "HTTP request sent, awaiting response... 200 OK\n",
      "Length: 67626 (66K) [application/vnd.ms-excel]\n",
      "Saving to: ‘/tmp/ipps-drg-grpr-20220701.xls’\n",
      "\n",
      "ipps-drg-grpr-20220 100%[===================>]  66.04K  --.-KB/s    in 0.08s   \n",
      "\n",
      "2023-09-13 14:00:57 (819 KB/s) - ‘/tmp/ipps-drg-grpr-20220701.xls’ saved [67626/67626]\n",
      "\n"
     ]
    }
   ],
   "source": [
    "!wget https://www.hca.wa.gov/assets/billers-and-providers/ipps-drg-grpr-20220701.xls -P /tmp"
   ]
  },
  {
   "cell_type": "code",
   "execution_count": 85,
   "metadata": {},
   "outputs": [],
   "source": [
    "import pandas as pd\n",
    "df = pd.read_excel('/tmp/ipps-drg-grpr-20220701.xls', header=8, skipfooter=8, converters={'APR DRG':str, 'MDC':str})"
   ]
  },
  {
   "cell_type": "code",
   "execution_count": 86,
   "metadata": {},
   "outputs": [
    {
     "data": {
      "text/html": [
       "<div>\n",
       "<style scoped>\n",
       "    .dataframe tbody tr th:only-of-type {\n",
       "        vertical-align: middle;\n",
       "    }\n",
       "\n",
       "    .dataframe tbody tr th {\n",
       "        vertical-align: top;\n",
       "    }\n",
       "\n",
       "    .dataframe thead th {\n",
       "        text-align: right;\n",
       "    }\n",
       "</style>\n",
       "<table border=\"1\" class=\"dataframe\">\n",
       "  <thead>\n",
       "    <tr style=\"text-align: right;\">\n",
       "      <th></th>\n",
       "      <th>Unnamed: 0</th>\n",
       "      <th>APR DRG</th>\n",
       "      <th>SOI</th>\n",
       "      <th>MDC</th>\n",
       "      <th>DRG Description</th>\n",
       "      <th>Type of Service</th>\n",
       "      <th>Payment Method</th>\n",
       "      <th>V 38 Relative Weight1</th>\n",
       "      <th>Average Length of Stay2</th>\n",
       "    </tr>\n",
       "  </thead>\n",
       "  <tbody>\n",
       "    <tr>\n",
       "      <th>0</th>\n",
       "      <td>NaN</td>\n",
       "      <td>001</td>\n",
       "      <td>1</td>\n",
       "      <td>NaN</td>\n",
       "      <td>LIVER TRANSPLANT AND/OR INTESTINAL TRANSPLANT</td>\n",
       "      <td>Transplant</td>\n",
       "      <td>RCC</td>\n",
       "      <td>NaN</td>\n",
       "      <td>NaN</td>\n",
       "    </tr>\n",
       "    <tr>\n",
       "      <th>1</th>\n",
       "      <td>NaN</td>\n",
       "      <td>001</td>\n",
       "      <td>2</td>\n",
       "      <td>NaN</td>\n",
       "      <td>LIVER TRANSPLANT AND/OR INTESTINAL TRANSPLANT</td>\n",
       "      <td>Transplant</td>\n",
       "      <td>RCC</td>\n",
       "      <td>NaN</td>\n",
       "      <td>NaN</td>\n",
       "    </tr>\n",
       "    <tr>\n",
       "      <th>2</th>\n",
       "      <td>NaN</td>\n",
       "      <td>001</td>\n",
       "      <td>3</td>\n",
       "      <td>NaN</td>\n",
       "      <td>LIVER TRANSPLANT AND/OR INTESTINAL TRANSPLANT</td>\n",
       "      <td>Transplant</td>\n",
       "      <td>RCC</td>\n",
       "      <td>NaN</td>\n",
       "      <td>NaN</td>\n",
       "    </tr>\n",
       "    <tr>\n",
       "      <th>3</th>\n",
       "      <td>NaN</td>\n",
       "      <td>001</td>\n",
       "      <td>4</td>\n",
       "      <td>NaN</td>\n",
       "      <td>LIVER TRANSPLANT AND/OR INTESTINAL TRANSPLANT</td>\n",
       "      <td>Transplant</td>\n",
       "      <td>RCC</td>\n",
       "      <td>NaN</td>\n",
       "      <td>NaN</td>\n",
       "    </tr>\n",
       "    <tr>\n",
       "      <th>4</th>\n",
       "      <td>NaN</td>\n",
       "      <td>002</td>\n",
       "      <td>1</td>\n",
       "      <td>NaN</td>\n",
       "      <td>HEART AND/OR LUNG TRANSPLANT</td>\n",
       "      <td>Transplant</td>\n",
       "      <td>RCC</td>\n",
       "      <td>NaN</td>\n",
       "      <td>NaN</td>\n",
       "    </tr>\n",
       "    <tr>\n",
       "      <th>...</th>\n",
       "      <td>...</td>\n",
       "      <td>...</td>\n",
       "      <td>...</td>\n",
       "      <td>...</td>\n",
       "      <td>...</td>\n",
       "      <td>...</td>\n",
       "      <td>...</td>\n",
       "      <td>...</td>\n",
       "      <td>...</td>\n",
       "    </tr>\n",
       "    <tr>\n",
       "      <th>1325</th>\n",
       "      <td>NaN</td>\n",
       "      <td>952</td>\n",
       "      <td>2</td>\n",
       "      <td>NaN</td>\n",
       "      <td>NON-EXTENSIVE O.R. PROCEDURE UNRELATED TO PRIN...</td>\n",
       "      <td>DRG</td>\n",
       "      <td>DRG</td>\n",
       "      <td>1.376689</td>\n",
       "      <td>5</td>\n",
       "    </tr>\n",
       "    <tr>\n",
       "      <th>1326</th>\n",
       "      <td>NaN</td>\n",
       "      <td>952</td>\n",
       "      <td>3</td>\n",
       "      <td>NaN</td>\n",
       "      <td>NON-EXTENSIVE O.R. PROCEDURE UNRELATED TO PRIN...</td>\n",
       "      <td>DRG</td>\n",
       "      <td>DRG</td>\n",
       "      <td>2.254545</td>\n",
       "      <td>9</td>\n",
       "    </tr>\n",
       "    <tr>\n",
       "      <th>1327</th>\n",
       "      <td>NaN</td>\n",
       "      <td>952</td>\n",
       "      <td>4</td>\n",
       "      <td>NaN</td>\n",
       "      <td>NON-EXTENSIVE O.R. PROCEDURE UNRELATED TO PRIN...</td>\n",
       "      <td>DRG</td>\n",
       "      <td>DRG</td>\n",
       "      <td>4.465527</td>\n",
       "      <td>16</td>\n",
       "    </tr>\n",
       "    <tr>\n",
       "      <th>1328</th>\n",
       "      <td>NaN</td>\n",
       "      <td>955</td>\n",
       "      <td>0</td>\n",
       "      <td>NaN</td>\n",
       "      <td>PRINCIPAL DIAGNOSIS INVALID AS DISCHARGE DIAGN...</td>\n",
       "      <td>Ungrouped</td>\n",
       "      <td>NaN</td>\n",
       "      <td>NaN</td>\n",
       "      <td>NaN</td>\n",
       "    </tr>\n",
       "    <tr>\n",
       "      <th>1329</th>\n",
       "      <td>NaN</td>\n",
       "      <td>956</td>\n",
       "      <td>0</td>\n",
       "      <td>NaN</td>\n",
       "      <td>UNGROUPABLE</td>\n",
       "      <td>Ungrouped</td>\n",
       "      <td>NaN</td>\n",
       "      <td>NaN</td>\n",
       "      <td>NaN</td>\n",
       "    </tr>\n",
       "  </tbody>\n",
       "</table>\n",
       "<p>1330 rows × 9 columns</p>\n",
       "</div>"
      ],
      "text/plain": [
       "      Unnamed: 0 APR DRG  SOI  MDC  \\\n",
       "0            NaN     001    1  NaN   \n",
       "1            NaN     001    2  NaN   \n",
       "2            NaN     001    3  NaN   \n",
       "3            NaN     001    4  NaN   \n",
       "4            NaN     002    1  NaN   \n",
       "...          ...     ...  ...  ...   \n",
       "1325         NaN     952    2  NaN   \n",
       "1326         NaN     952    3  NaN   \n",
       "1327         NaN     952    4  NaN   \n",
       "1328         NaN     955    0  NaN   \n",
       "1329         NaN     956    0  NaN   \n",
       "\n",
       "                                        DRG Description Type of Service  \\\n",
       "0         LIVER TRANSPLANT AND/OR INTESTINAL TRANSPLANT      Transplant   \n",
       "1         LIVER TRANSPLANT AND/OR INTESTINAL TRANSPLANT      Transplant   \n",
       "2         LIVER TRANSPLANT AND/OR INTESTINAL TRANSPLANT      Transplant   \n",
       "3         LIVER TRANSPLANT AND/OR INTESTINAL TRANSPLANT      Transplant   \n",
       "4                          HEART AND/OR LUNG TRANSPLANT      Transplant   \n",
       "...                                                 ...             ...   \n",
       "1325  NON-EXTENSIVE O.R. PROCEDURE UNRELATED TO PRIN...             DRG   \n",
       "1326  NON-EXTENSIVE O.R. PROCEDURE UNRELATED TO PRIN...             DRG   \n",
       "1327  NON-EXTENSIVE O.R. PROCEDURE UNRELATED TO PRIN...             DRG   \n",
       "1328  PRINCIPAL DIAGNOSIS INVALID AS DISCHARGE DIAGN...       Ungrouped   \n",
       "1329                                        UNGROUPABLE       Ungrouped   \n",
       "\n",
       "     Payment Method  V 38 Relative Weight1 Average Length of Stay2  \n",
       "0               RCC                    NaN                     NaN  \n",
       "1               RCC                    NaN                     NaN  \n",
       "2               RCC                    NaN                     NaN  \n",
       "3               RCC                    NaN                     NaN  \n",
       "4               RCC                    NaN                     NaN  \n",
       "...             ...                    ...                     ...  \n",
       "1325            DRG               1.376689                       5  \n",
       "1326            DRG               2.254545                       9  \n",
       "1327            DRG               4.465527                      16  \n",
       "1328            NaN                    NaN                     NaN  \n",
       "1329            NaN                    NaN                     NaN  \n",
       "\n",
       "[1330 rows x 9 columns]"
      ]
     },
     "execution_count": 86,
     "metadata": {},
     "output_type": "execute_result"
    }
   ],
   "source": [
    "df"
   ]
  },
  {
   "cell_type": "code",
   "execution_count": 87,
   "metadata": {},
   "outputs": [],
   "source": [
    "major_diagnostic_categories = {'01': 'Diseases and disorders of the nervous system',\n",
    "                               '02': 'Diseases and disorders of the eye',\n",
    "                               '03': 'Diseases and disorders of the ear, nose, mouth and throat',\n",
    "                                '04': 'Diseases and disorders of the respiratory system',\n",
    "                                '05': 'Diseases and disorders of the circulatory system',\n",
    "                                '06': 'Diseases and disorders of the digestive system',\n",
    "                                '07': 'Diseases and disorders of the hepatobiliary system and pancreas',\n",
    "                                '08': 'Diseases and disorders of the musculoskeletal system and connective tissue',\n",
    "                                '09': 'Diseases and disorders of the skin, subcutaneous tissue and breast',\n",
    "                                '10': 'Endocrine, nutritional and metabolic diseases and disorders',\n",
    "                                '11': 'Diseases and disorders of the kidney and urinary tract',\n",
    "                                '12': 'Diseases and disorders of the male reproductive system',\n",
    "                                '13': 'Diseases and disorders of the female reproductive system',\n",
    "                                '14': 'Pregnancy, childbirth and the puerperium',\n",
    "                                '15': 'Newborns and other neonates with conditions originating in the perinatal period',\n",
    "                                '16': 'Diseases and disorders of blood, blood forming organs and immunological disorders',\n",
    "                                '17': 'Myeloproliferative diseases and disorders, poorly differentiated neoplasms',\n",
    "                                '18': 'Infectious and parasitic diseases, systemic or unspecified sites',\n",
    "                                '19': 'Mental diseases and disorders',\n",
    "                                '20': 'Alcohol or drug use or induced organic mental disorders',\n",
    "                                '21': 'Injuries, poisonings and toxic effects of drugs',\n",
    "                                '22': 'Burns',\n",
    "                                '23': 'Factors influencing health status and other contacts with health services',\n",
    "                                '24': 'Multiple significant trauma',\n",
    "                                '25': 'Human immunodeficiency virus infections'         \n",
    "}"
   ]
  },
  {
   "cell_type": "code",
   "execution_count": 88,
   "metadata": {},
   "outputs": [],
   "source": [
    "df = df[['APR DRG', 'DRG Description', 'MDC']].rename(columns={'APR DRG':'billing_code', 'DRG Description':'description', 'MDC':'mdc'})\n",
    "\n"
   ]
  },
  {
   "cell_type": "code",
   "execution_count": 89,
   "metadata": {},
   "outputs": [],
   "source": [
    "df['category'] = df['mdc'].map(major_diagnostic_categories)"
   ]
  },
  {
   "cell_type": "code",
   "execution_count": 90,
   "metadata": {},
   "outputs": [],
   "source": [
    "df['code_type'] = 'APR-DRG'"
   ]
  },
  {
   "cell_type": "code",
   "execution_count": 91,
   "metadata": {},
   "outputs": [],
   "source": [
    "df['description'] = df['description'].str.lower().str.capitalize()"
   ]
  },
  {
   "cell_type": "code",
   "execution_count": 92,
   "metadata": {},
   "outputs": [],
   "source": [
    "df[['billing_code', 'code_type', 'category', 'description']].to_parquet('/Users/me/data/payless_health/3M_APR_DRG_definitions.parquet', index=False)"
   ]
  },
  {
   "cell_type": "code",
   "execution_count": 93,
   "metadata": {},
   "outputs": [],
   "source": [
    "df_load = pd.read_parquet('/Users/me/data/payless_health/3M_APR_DRG_definitions.parquet')"
   ]
  },
  {
   "cell_type": "code",
   "execution_count": 94,
   "metadata": {},
   "outputs": [
    {
     "data": {
      "text/plain": [
       "Diseases and disorders of the circulatory system                                     144\n",
       "Diseases and disorders of the nervous system                                         116\n",
       "Newborns and other neonates with conditions originating in the perinatal period      112\n",
       "Diseases and disorders of the musculoskeletal system and connective tissue           112\n",
       "Diseases and disorders of the digestive system                                       108\n",
       "Diseases and disorders of the respiratory system                                      72\n",
       "Diseases and disorders of the kidney and urinary tract                                64\n",
       "Mental diseases and disorders                                                         48\n",
       "Endocrine, nutritional and metabolic diseases and disorders                           48\n",
       "Pregnancy, childbirth and the puerperium                                              44\n",
       "Diseases and disorders of the female reproductive system                              44\n",
       "Diseases and disorders of the ear, nose, mouth and throat                             44\n",
       "Diseases and disorders of the skin, subcutaneous tissue and breast                    40\n",
       "Diseases and disorders of the hepatobiliary system and pancreas                       40\n",
       "Injuries, poisonings and toxic effects of drugs                                       40\n",
       "Myeloproliferative diseases and disorders, poorly differentiated neoplasms            32\n",
       "Infectious and parasitic diseases, systemic or unspecified sites                      28\n",
       "Diseases and disorders of the male reproductive system                                24\n",
       "Diseases and disorders of blood, blood forming organs and immunological disorders     24\n",
       "Alcohol or drug use or induced organic mental disorders                               24\n",
       "Factors influencing health status and other contacts with health services             20\n",
       "Burns                                                                                 16\n",
       "Multiple significant trauma                                                           16\n",
       "Human immunodeficiency virus infections                                               16\n",
       "Diseases and disorders of the eye                                                      8\n",
       "Name: category, dtype: int64"
      ]
     },
     "execution_count": 94,
     "metadata": {},
     "output_type": "execute_result"
    }
   ],
   "source": [
    "df_load['category'].value_counts()"
   ]
  },
  {
   "cell_type": "code",
   "execution_count": 95,
   "metadata": {},
   "outputs": [
    {
     "data": {
      "text/plain": [
       "array([nan, 'Diseases and disorders of the nervous system',\n",
       "       'Diseases and disorders of the eye',\n",
       "       'Diseases and disorders of the ear, nose, mouth and throat',\n",
       "       'Diseases and disorders of the respiratory system',\n",
       "       'Diseases and disorders of the circulatory system',\n",
       "       'Diseases and disorders of the digestive system',\n",
       "       'Diseases and disorders of the hepatobiliary system and pancreas',\n",
       "       'Diseases and disorders of the musculoskeletal system and connective tissue',\n",
       "       'Diseases and disorders of the skin, subcutaneous tissue and breast',\n",
       "       'Endocrine, nutritional and metabolic diseases and disorders',\n",
       "       'Diseases and disorders of the kidney and urinary tract',\n",
       "       'Diseases and disorders of the male reproductive system',\n",
       "       'Diseases and disorders of the female reproductive system',\n",
       "       'Pregnancy, childbirth and the puerperium',\n",
       "       'Newborns and other neonates with conditions originating in the perinatal period',\n",
       "       'Diseases and disorders of blood, blood forming organs and immunological disorders',\n",
       "       'Myeloproliferative diseases and disorders, poorly differentiated neoplasms',\n",
       "       'Infectious and parasitic diseases, systemic or unspecified sites',\n",
       "       'Mental diseases and disorders',\n",
       "       'Alcohol or drug use or induced organic mental disorders',\n",
       "       'Injuries, poisonings and toxic effects of drugs', 'Burns',\n",
       "       'Factors influencing health status and other contacts with health services',\n",
       "       'Multiple significant trauma',\n",
       "       'Human immunodeficiency virus infections'], dtype=object)"
      ]
     },
     "execution_count": 95,
     "metadata": {},
     "output_type": "execute_result"
    }
   ],
   "source": [
    "df['category'].unique()"
   ]
  },
  {
   "cell_type": "code",
   "execution_count": null,
   "metadata": {},
   "outputs": [],
   "source": []
  }
 ],
 "metadata": {
  "kernelspec": {
   "display_name": "datathinking.org",
   "language": "python",
   "name": "python3"
  },
  "language_info": {
   "codemirror_mode": {
    "name": "ipython",
    "version": 3
   },
   "file_extension": ".py",
   "mimetype": "text/x-python",
   "name": "python",
   "nbconvert_exporter": "python",
   "pygments_lexer": "ipython3",
   "version": "3.11.0"
  },
  "orig_nbformat": 4
 },
 "nbformat": 4,
 "nbformat_minor": 2
}

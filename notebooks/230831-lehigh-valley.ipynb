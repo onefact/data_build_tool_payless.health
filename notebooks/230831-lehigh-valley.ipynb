{
 "cells": [
  {
   "cell_type": "markdown",
   "metadata": {},
   "source": [
    "# Overview to approach \"machine-readable\" files\n",
    "1. Try to load it in duckdb\n",
    "2. Try to load it in pandas\n",
    "3. Use command-line tools to determine the encoding\n",
    "4. Re-encode the file\n",
    "5. Repeat to try to load it in duckdb and pandas\n",
    "6. Remove any escape characters using command-line tools\n",
    "\n",
    "## Command-line dependencies\n",
    "These can be installed using homebrew on Mac OS X:\n",
    "```\n",
    "brew install libiconv\n",
    "brew install uchardet\n",
    "```"
   ]
  },
  {
   "cell_type": "code",
   "execution_count": 1,
   "metadata": {},
   "outputs": [],
   "source": [
    "# Load duckdb, which lets us efficiently load large files\n",
    "import duckdb\n",
    "\n",
    "# Load pandas, which lets us manipulate dataframes\n",
    "import pandas as pd\n",
    "\n",
    "# Import jupysql Jupyter extension to create SQL cells\n",
    "%load_ext sql\n",
    "\n",
    "# Set configrations on jupysql to directly output data to Pandas and to simplify the output that is printed to the notebook.\n",
    "%config SqlMagic.autopandas = True\n",
    "\n",
    "%config SqlMagic.feedback = False\n",
    "%config SqlMagic.displaycon = False\n",
    "\n",
    "# Allow named parameters (python variables) in SQL cells\n",
    "%config SqlMagic.named_parameters=True\n",
    "\n",
    "# Connect jupysql to DuckDB using a SQLAlchemy-style connection string. Either connect to an in memory DuckDB, or a file backed db.\n",
    "%sql duckdb:///:memory:"
   ]
  },
  {
   "cell_type": "code",
   "execution_count": 2,
   "metadata": {},
   "outputs": [
    {
     "name": "stdout",
     "output_type": "stream",
     "text": [
      "--2023-08-31 10:14:43--  https://www.lvhn.org/sites/default/files/2022-12/231689692_Lehigh_Valley_Hospital_StandardCharges.zip\n",
      "Resolving www.lvhn.org (www.lvhn.org)... 2620:12a:8001::1, 2620:12a:8000::1, 23.185.0.1\n",
      "Connecting to www.lvhn.org (www.lvhn.org)|2620:12a:8001::1|:443... connected.\n",
      "HTTP request sent, awaiting response... 200 OK\n",
      "Length: 37214088 (35M) [application/zip]\n",
      "Saving to: ‘/tmp/231689692_Lehigh_Valley_Hospital_StandardCharges.zip’\n",
      "\n",
      "231689692_Lehigh_Va 100%[===================>]  35.49M  6.77MB/s    in 5.2s    \n",
      "\n",
      "2023-08-31 10:14:49 (6.85 MB/s) - ‘/tmp/231689692_Lehigh_Valley_Hospital_StandardCharges.zip’ saved [37214088/37214088]\n",
      "\n"
     ]
    }
   ],
   "source": [
    "!wget https://www.lvhn.org/sites/default/files/2022-12/231689692_Lehigh_Valley_Hospital_StandardCharges.zip -P /tmp"
   ]
  },
  {
   "cell_type": "code",
   "execution_count": 5,
   "metadata": {},
   "outputs": [
    {
     "name": "stdout",
     "output_type": "stream",
     "text": [
      "Archive:  /tmp/231689692_Lehigh_Valley_Hospital_StandardCharges.zip\n",
      "  inflating: 231689692_Lehigh_Valley_Hospital_StandardCharges.JSON  \n"
     ]
    }
   ],
   "source": [
    "!unzip /tmp/231689692_Lehigh_Valley_Hospital_StandardCharges.zip && mv 231689692_Lehigh_Valley_Hospital_StandardCharges.JSON ~/data/payless_health"
   ]
  },
  {
   "cell_type": "code",
   "execution_count": 6,
   "metadata": {},
   "outputs": [
    {
     "name": "stdout",
     "output_type": "stream",
     "text": [
      "-rw-r--r--  1 me  staff   858M Dec  2  2022 /Users/me/data/payless_health/231689692_Lehigh_Valley_Hospital_StandardCharges.JSON\n"
     ]
    }
   ],
   "source": [
    "ls -lh ~/data/payless_health/231689692_Lehigh_Valley_Hospital_StandardCharges.JSON"
   ]
  },
  {
   "cell_type": "code",
   "execution_count": 7,
   "metadata": {},
   "outputs": [
    {
     "name": "stdout",
     "output_type": "stream",
     "text": [
      "{\n",
      "\"Standard Charges\":[\n",
      "{\n",
      "\"Header\":\"Lehigh Valley Hospital-Cedar Crest\"\n",
      "}\n",
      ",\n",
      "{\n",
      "\"Header\":\"Lehigh Valley Hospital-Muhlenberg\"\n",
      "}\n",
      ",\n"
     ]
    }
   ],
   "source": [
    "!head /Users/me/data/payless_health/231689692_Lehigh_Valley_Hospital_StandardCharges.JSON"
   ]
  },
  {
   "cell_type": "code",
   "execution_count": 5,
   "metadata": {},
   "outputs": [],
   "source": [
    "file_path = '/Users/me/data/payless_health/231689692_Lehigh_Valley_Hospital_StandardCharges.JSON'"
   ]
  },
  {
   "cell_type": "code",
   "execution_count": 6,
   "metadata": {},
   "outputs": [
    {
     "name": "stderr",
     "output_type": "stream",
     "text": [
      "RuntimeError: (duckdb.InvalidInputException) Invalid Input Error: Attempting to execute an unsuccessful or closed pending query result\n",
      "Error: Invalid Input Error: Malformed JSON in file \"/Users/me/data/payless_health/231689692_Lehigh_Valley_Hospital_StandardCharges.JSON\", at byte 1964 in record/value 2: invalid UTF-8 encoding in string. \n",
      "[SQL: SELECT * FROM read_json_auto(?, records=true, maximum_object_size=500000000)]\n",
      "[parameters: ('/Users/me/data/payless_health/231689692_Lehigh_Valley_Hospital_StandardCharges.JSON',)]\n",
      "(Background on this error at: https://sqlalche.me/e/20/f405)\n",
      "If you need help solving this issue, send us a message: https://ploomber.io/community\n"
     ]
    }
   ],
   "source": [
    "%%sql\n",
    "SELECT * FROM read_json_auto(:file_path, records=true, maximum_object_size=500000000)"
   ]
  },
  {
   "cell_type": "code",
   "execution_count": 7,
   "metadata": {},
   "outputs": [
    {
     "name": "stdout",
     "output_type": "stream",
     "text": [
      "ISO-8859-2\n"
     ]
    }
   ],
   "source": [
    "!uchardet /Users/me/data/payless_health/231689692_Lehigh_Valley_Hospital_StandardCharges.JSON"
   ]
  },
  {
   "cell_type": "code",
   "execution_count": 8,
   "metadata": {},
   "outputs": [
    {
     "data": {
      "text/plain": [
       "{'encoding': 'ISO-8859-1', 'confidence': 0.73, 'language': ''}"
      ]
     },
     "execution_count": 8,
     "metadata": {},
     "output_type": "execute_result"
    }
   ],
   "source": [
    "import io\n",
    "import chardet\n",
    "with open(file_path, 'rb') as f:\n",
    "    result = chardet.detect(f.read(5000000))  # or readline if the file is large\n",
    "\n",
    "result"
   ]
  },
  {
   "cell_type": "code",
   "execution_count": 10,
   "metadata": {},
   "outputs": [
    {
     "name": "stdout",
     "output_type": "stream",
     "text": [
      "text/plain; charset=iso-8859-1\n"
     ]
    }
   ],
   "source": [
    "!file -bI /Users/me/data/payless_health/231689692_Lehigh_Valley_Hospital_StandardCharges.JSON"
   ]
  },
  {
   "cell_type": "code",
   "execution_count": 11,
   "metadata": {},
   "outputs": [],
   "source": [
    "!iconv -f ISO-8859-1 -t UTF-8 /Users/me/data/payless_health/231689692_Lehigh_Valley_Hospital_StandardCharges.JSON > /Users/me/data/payless_health/231689692_Lehigh_Valley_Hospital_StandardCharges.ISO-8859-1.utf8.JSON"
   ]
  },
  {
   "cell_type": "code",
   "execution_count": 12,
   "metadata": {},
   "outputs": [],
   "source": [
    "file_path_utf8 = '/Users/me/data/payless_health/231689692_Lehigh_Valley_Hospital_StandardCharges.ISO-8859-1.utf8.JSON'"
   ]
  },
  {
   "cell_type": "code",
   "execution_count": 13,
   "metadata": {},
   "outputs": [
    {
     "name": "stderr",
     "output_type": "stream",
     "text": [
      "RuntimeError: (duckdb.InvalidInputException) Invalid Input Error: Attempting to execute an unsuccessful or closed pending query result\n",
      "Error: Invalid Input Error: Malformed JSON in file \"/Users/me/data/payless_health/231689692_Lehigh_Valley_Hospital_StandardCharges.ISO-8859-1.utf8.JSON\", at byte 878701 in record/value 2: invalid escaped character in string. \n",
      "[SQL: SELECT * FROM read_json_auto(?, records=true, maximum_object_size=500000000)]\n",
      "[parameters: ('/Users/me/data/payless_health/231689692_Lehigh_Valley_Hospital_StandardCharges.ISO-8859-1.utf8.JSON',)]\n",
      "(Background on this error at: https://sqlalche.me/e/20/f405)\n",
      "If you need help solving this issue, send us a message: https://ploomber.io/community\n"
     ]
    }
   ],
   "source": [
    "%%sql\n",
    "SELECT * FROM read_json_auto(:file_path_utf8, records=true, maximum_object_size=500000000)"
   ]
  },
  {
   "cell_type": "code",
   "execution_count": 18,
   "metadata": {},
   "outputs": [
    {
     "name": "stdout",
     "output_type": "stream",
     "text": [
      "3264153    \\   F   I   N   G   E   R  sp   L   S   N   ;  sp   S   U   B\n",
      "3264173\n"
     ]
    }
   ],
   "source": [
    "!od -j 878699 -N 16 -a /Users/me/data/payless_health/231689692_Lehigh_Valley_Hospital_StandardCharges.ISO-8859-1.utf8.JSON "
   ]
  },
  {
   "cell_type": "markdown",
   "metadata": {},
   "source": [
    "The offending escape character seems to be a backslash. We can remove it using sed:\n",
    "```\n",
    "sed -i '' 's/\\\\//g' 230831-lehigh-valley.csv\n",
    "```\n",
    "\n",
    "Or with tr:\n",
    "```\n",
    "tr -d '\\\\' < 230831-lehigh-valley.csv > 230831-lehigh-valley.csv\n",
    "```"
   ]
  },
  {
   "cell_type": "code",
   "execution_count": 19,
   "metadata": {},
   "outputs": [],
   "source": [
    "!tr -d '\\\\' < /Users/me/data/payless_health/231689692_Lehigh_Valley_Hospital_StandardCharges.ISO-8859-1.utf8.JSON > /Users/me/data/payless_health/231689692_Lehigh_Valley_Hospital_StandardCharges.ISO-8859-1.utf8.nobackslash.JSON"
   ]
  },
  {
   "cell_type": "code",
   "execution_count": 2,
   "metadata": {},
   "outputs": [
    {
     "data": {
      "text/html": [
       "<div>\n",
       "<style scoped>\n",
       "    .dataframe tbody tr th:only-of-type {\n",
       "        vertical-align: middle;\n",
       "    }\n",
       "\n",
       "    .dataframe tbody tr th {\n",
       "        vertical-align: top;\n",
       "    }\n",
       "\n",
       "    .dataframe thead th {\n",
       "        text-align: right;\n",
       "    }\n",
       "</style>\n",
       "<table border=\"1\" class=\"dataframe\">\n",
       "  <thead>\n",
       "    <tr style=\"text-align: right;\">\n",
       "      <th></th>\n",
       "      <th>Standard Charges</th>\n",
       "      <th>Minimum &amp; Maximum Allowed</th>\n",
       "      <th>NCC 4</th>\n",
       "      <th>NCC 5</th>\n",
       "      <th>NCC 5 RCH</th>\n",
       "      <th>NCC 6</th>\n",
       "      <th>NCC 9</th>\n",
       "      <th>NCC 14</th>\n",
       "      <th>NCC 14 RCH</th>\n",
       "      <th>NCC 15</th>\n",
       "      <th>...</th>\n",
       "      <th>NCC 484</th>\n",
       "      <th>NCC 485</th>\n",
       "      <th>NCC 486</th>\n",
       "      <th>NCC 494</th>\n",
       "      <th>NCC 499</th>\n",
       "      <th>NCC 526</th>\n",
       "      <th>NCC 535</th>\n",
       "      <th>NCC 536</th>\n",
       "      <th>NCC 571</th>\n",
       "      <th>NCC 574</th>\n",
       "    </tr>\n",
       "  </thead>\n",
       "  <tbody>\n",
       "    <tr>\n",
       "      <th>0</th>\n",
       "      <td>[{'Header': 'Lehigh Valley Hospital-Cedar Cres...</td>\n",
       "      <td>[{'Payment Type': 'APR DRG', 'Description': 'L...</td>\n",
       "      <td>[{'Payment Type': 'MS DRG', 'Description': 'HE...</td>\n",
       "      <td>[{'Header': 'Lehigh Valley Hospital-Cedar Cres...</td>\n",
       "      <td>[{'Header': 'Lehigh Valley Hospital-Reilly Chi...</td>\n",
       "      <td>[{'Header': 'Lehigh Valley Hospital-Cedar Cres...</td>\n",
       "      <td>[{'Payment Type': 'MS DRG', 'Description': 'HE...</td>\n",
       "      <td>[{'Header': 'Lehigh Valley Hospital-Cedar Cres...</td>\n",
       "      <td>[{'Header': 'Lehigh Valley Hospital-Reilly Chi...</td>\n",
       "      <td>[{'Payment Type': 'MS DRG', 'Description': 'HE...</td>\n",
       "      <td>...</td>\n",
       "      <td>[{'Header': 'Lehigh Valley Hospital-Hecktown O...</td>\n",
       "      <td>[{'Header': 'Lehigh Valley Hospital-Hecktown O...</td>\n",
       "      <td>[{'Payment Type': 'MS DRG', 'Description': 'HE...</td>\n",
       "      <td>[{'Payment Type': 'APR DRG', 'Description': 'L...</td>\n",
       "      <td>[{'Payment Type': 'PER DIEM', 'Description': '...</td>\n",
       "      <td>[{'Header': 'Lehigh Valley Hospital-Carbon', '...</td>\n",
       "      <td>[{'Header': 'Lehigh Valley Hospital-Coordinate...</td>\n",
       "      <td>[{'Payment Type': 'MS DRG', 'Description': 'HE...</td>\n",
       "      <td>[{'Payment Type': 'MS DRG', 'Description': 'HE...</td>\n",
       "      <td>[{'Payment Type': 'APR DRG', 'Description': 'L...</td>\n",
       "    </tr>\n",
       "  </tbody>\n",
       "</table>\n",
       "<p>1 rows × 83 columns</p>\n",
       "</div>"
      ],
      "text/plain": [
       "                                    Standard Charges  \\\n",
       "0  [{'Header': 'Lehigh Valley Hospital-Cedar Cres...   \n",
       "\n",
       "                           Minimum & Maximum Allowed  \\\n",
       "0  [{'Payment Type': 'APR DRG', 'Description': 'L...   \n",
       "\n",
       "                                               NCC 4  \\\n",
       "0  [{'Payment Type': 'MS DRG', 'Description': 'HE...   \n",
       "\n",
       "                                               NCC 5  \\\n",
       "0  [{'Header': 'Lehigh Valley Hospital-Cedar Cres...   \n",
       "\n",
       "                                           NCC 5 RCH  \\\n",
       "0  [{'Header': 'Lehigh Valley Hospital-Reilly Chi...   \n",
       "\n",
       "                                               NCC 6  \\\n",
       "0  [{'Header': 'Lehigh Valley Hospital-Cedar Cres...   \n",
       "\n",
       "                                               NCC 9  \\\n",
       "0  [{'Payment Type': 'MS DRG', 'Description': 'HE...   \n",
       "\n",
       "                                              NCC 14  \\\n",
       "0  [{'Header': 'Lehigh Valley Hospital-Cedar Cres...   \n",
       "\n",
       "                                          NCC 14 RCH  \\\n",
       "0  [{'Header': 'Lehigh Valley Hospital-Reilly Chi...   \n",
       "\n",
       "                                              NCC 15  ...  \\\n",
       "0  [{'Payment Type': 'MS DRG', 'Description': 'HE...  ...   \n",
       "\n",
       "                                             NCC 484  \\\n",
       "0  [{'Header': 'Lehigh Valley Hospital-Hecktown O...   \n",
       "\n",
       "                                             NCC 485  \\\n",
       "0  [{'Header': 'Lehigh Valley Hospital-Hecktown O...   \n",
       "\n",
       "                                             NCC 486  \\\n",
       "0  [{'Payment Type': 'MS DRG', 'Description': 'HE...   \n",
       "\n",
       "                                             NCC 494  \\\n",
       "0  [{'Payment Type': 'APR DRG', 'Description': 'L...   \n",
       "\n",
       "                                             NCC 499  \\\n",
       "0  [{'Payment Type': 'PER DIEM', 'Description': '...   \n",
       "\n",
       "                                             NCC 526  \\\n",
       "0  [{'Header': 'Lehigh Valley Hospital-Carbon', '...   \n",
       "\n",
       "                                             NCC 535  \\\n",
       "0  [{'Header': 'Lehigh Valley Hospital-Coordinate...   \n",
       "\n",
       "                                             NCC 536  \\\n",
       "0  [{'Payment Type': 'MS DRG', 'Description': 'HE...   \n",
       "\n",
       "                                             NCC 571  \\\n",
       "0  [{'Payment Type': 'MS DRG', 'Description': 'HE...   \n",
       "\n",
       "                                             NCC 574  \n",
       "0  [{'Payment Type': 'APR DRG', 'Description': 'L...  \n",
       "\n",
       "[1 rows x 83 columns]"
      ]
     },
     "execution_count": 2,
     "metadata": {},
     "output_type": "execute_result"
    }
   ],
   "source": [
    "%%sql\n",
    "SELECT * FROM read_json_auto('/Users/me/data/payless_health/231689692_Lehigh_Valley_Hospital_StandardCharges.ISO-8859-1.utf8.nobackslash.JSON', records=true, maximum_object_size=500000000)"
   ]
  },
  {
   "cell_type": "code",
   "execution_count": 4,
   "metadata": {},
   "outputs": [
    {
     "name": "stdout",
     "output_type": "stream",
     "text": [
      "{\n",
      "\"Standard Charges\":[\n",
      "{\n",
      "\"Header\":\"Lehigh Valley Hospital-Cedar Crest\"\n",
      "}\n",
      ",\n",
      "{\n",
      "\"Header\":\"Lehigh Valley Hospital-Muhlenberg\"\n",
      "}\n",
      ",\n",
      "{\n",
      "\"Header\":\"Lehigh Valley Hospital-Hecktown Oaks\"\n",
      "}\n",
      ",\n",
      "{\n",
      "\"Header\":\"Lehigh Valley Hospital-Reilly Children's Hospital\"\n",
      "}\n",
      ",\n",
      "{\n",
      "\"Header\":\"Lehigh Valley Hospital-Tilghman Surgery Center\"\n",
      "}\n",
      ",\n",
      "{\n",
      "\"Header\":\"Lehigh Valley Hospital-17th Street\"\n",
      "}\n",
      ",\n",
      "{\n",
      "\"Header\":\"Lehigh Valley Hospital-Carbon\"\n",
      "}\n",
      ",\n",
      "{\n",
      "\"Header\":\"Lehigh Valley Hospital-Coordinated Health Allentown\"\n",
      "}\n",
      ",\n",
      "{\n",
      "\"Header\":\"Lehigh Valley Hospital-Coordinated Health Bethlehem\"\n",
      "}\n",
      ",\n",
      "{\n",
      "\"Header\":\"Comprehensive Machine Readable File\"\n",
      "}\n",
      ",\n",
      "{\n",
      "\"Header\":\"Date of last Update: 12/15/2022\"\n",
      "}\n",
      ",\n",
      "{\n",
      "\"DESCRIPTION\":\"HB MED SURG PRIVATE BED\"\n",
      ",\n",
      "\"BILLING_CODE\":\"110\"\n",
      ",\n",
      "\"GROSS_CHARGES_IP\":\"$3,730.00\"\n",
      ",\n",
      "\"GROSS_CHARGES_OP\":\"N/A\"\n",
      ",\n",
      "\"SELF-PAY_PRICE_IP\":\"$1,865.00\"\n",
      ",\n",
      "\"SELF-PAY_PRICE_OP\":\"N/A\"\n",
      "}\n",
      ",\n",
      "{\n",
      "\"DESCRIPTION\":\"HB EBOLA PRIVATE\"\n",
      ",\n",
      "\"BILLING_CODE\":\"110\"\n",
      ",\n",
      "\"GROSS_CHARGES_IP\":\"$34,485.00\"\n",
      ",\n",
      "\"GROSS_CHARGES_OP\":\"N/A\"\n",
      ",\n",
      "\"SELF-PAY_PRICE_IP\":\"$17,242.50\"\n",
      ",\n",
      "\"SELF-PAY_PRICE_OP\":\"N/A\"\n",
      "}\n",
      ",\n",
      "{\n",
      "\"DESCRIPTION\":\"HB OB/GYN  PRIVATE BED\"\n",
      ",\n",
      "\"BILLING_CODE\":\"112\"\n",
      ",\n",
      "\"GROSS_CHARGES_IP\":\"$4,795.00\"\n",
      ",\n",
      "\"GROSS_CHARGES_OP\":\"N/A\"\n",
      ",\n",
      "\"SELF-PAY_PRICE_IP\":\"$2,397.50\"\n",
      ",\n",
      "\"SELF-PAY_PRICE_OP\":\"N/A\"\n",
      "}\n",
      ",\n",
      "{\n",
      "\"DESCRIPTION\":\"HB OB/GYN LOW LEVEL BED\"\n",
      ",\n",
      "\"BILLING_CODE\":\"112\"\n",
      ",\n",
      "\"GROSS_CHARGES_IP\":\"$6,595.00\"\n",
      ",\n",
      "\"GROSS_CHARGES_OP\":\"N/A\"\n",
      ",\n",
      "\"SELF-PAY_PRICE_IP\":\"$3,297.50\"\n",
      ",\n",
      "\"SELF-PAY_PRICE_OP\":\"N/A\"\n"
     ]
    }
   ],
   "source": [
    "!head -n 100 /Users/me/data/payless_health/231689692_Lehigh_Valley_Hospital_StandardCharges.ISO-8859-1.utf8.nobackslash.JSON"
   ]
  },
  {
   "cell_type": "code",
   "execution_count": 15,
   "metadata": {},
   "outputs": [],
   "source": [
    "file_path_iso_8859_1_utf8 = '/Users/me/data/payless_health/231689692_Lehigh_Valley_Hospital_StandardCharges.JSON.ISO-8859-1.utf8'"
   ]
  },
  {
   "cell_type": "code",
   "execution_count": 2,
   "metadata": {},
   "outputs": [
    {
     "data": {
      "text/html": [
       "<div>\n",
       "<style scoped>\n",
       "    .dataframe tbody tr th:only-of-type {\n",
       "        vertical-align: middle;\n",
       "    }\n",
       "\n",
       "    .dataframe tbody tr th {\n",
       "        vertical-align: top;\n",
       "    }\n",
       "\n",
       "    .dataframe thead th {\n",
       "        text-align: right;\n",
       "    }\n",
       "</style>\n",
       "<table border=\"1\" class=\"dataframe\">\n",
       "  <thead>\n",
       "    <tr style=\"text-align: right;\">\n",
       "      <th></th>\n",
       "      <th>Standard Charges</th>\n",
       "      <th>Minimum &amp; Maximum Allowed</th>\n",
       "      <th>NCC 4</th>\n",
       "      <th>NCC 5</th>\n",
       "      <th>NCC 5 RCH</th>\n",
       "      <th>NCC 6</th>\n",
       "      <th>NCC 9</th>\n",
       "      <th>NCC 14</th>\n",
       "      <th>NCC 14 RCH</th>\n",
       "      <th>NCC 15</th>\n",
       "      <th>...</th>\n",
       "      <th>NCC 484</th>\n",
       "      <th>NCC 485</th>\n",
       "      <th>NCC 486</th>\n",
       "      <th>NCC 494</th>\n",
       "      <th>NCC 499</th>\n",
       "      <th>NCC 526</th>\n",
       "      <th>NCC 535</th>\n",
       "      <th>NCC 536</th>\n",
       "      <th>NCC 571</th>\n",
       "      <th>NCC 574</th>\n",
       "    </tr>\n",
       "  </thead>\n",
       "  <tbody>\n",
       "    <tr>\n",
       "      <th>0</th>\n",
       "      <td>[{'Header': 'Lehigh Valley Hospital-Cedar Cres...</td>\n",
       "      <td>[{'Payment Type': 'APR DRG', 'Description': 'L...</td>\n",
       "      <td>[{'Payment Type': 'MS DRG', 'Description': 'HE...</td>\n",
       "      <td>[{'Header': 'Lehigh Valley Hospital-Cedar Cres...</td>\n",
       "      <td>[{'Header': 'Lehigh Valley Hospital-Reilly Chi...</td>\n",
       "      <td>[{'Header': 'Lehigh Valley Hospital-Cedar Cres...</td>\n",
       "      <td>[{'Payment Type': 'MS DRG', 'Description': 'HE...</td>\n",
       "      <td>[{'Header': 'Lehigh Valley Hospital-Cedar Cres...</td>\n",
       "      <td>[{'Header': 'Lehigh Valley Hospital-Reilly Chi...</td>\n",
       "      <td>[{'Payment Type': 'MS DRG', 'Description': 'HE...</td>\n",
       "      <td>...</td>\n",
       "      <td>[{'Header': 'Lehigh Valley Hospital-Hecktown O...</td>\n",
       "      <td>[{'Header': 'Lehigh Valley Hospital-Hecktown O...</td>\n",
       "      <td>[{'Payment Type': 'MS DRG', 'Description': 'HE...</td>\n",
       "      <td>[{'Payment Type': 'APR DRG', 'Description': 'L...</td>\n",
       "      <td>[{'Payment Type': 'PER DIEM', 'Description': '...</td>\n",
       "      <td>[{'Header': 'Lehigh Valley Hospital-Carbon', '...</td>\n",
       "      <td>[{'Header': 'Lehigh Valley Hospital-Coordinate...</td>\n",
       "      <td>[{'Payment Type': 'MS DRG', 'Description': 'HE...</td>\n",
       "      <td>[{'Payment Type': 'MS DRG', 'Description': 'HE...</td>\n",
       "      <td>[{'Payment Type': 'APR DRG', 'Description': 'L...</td>\n",
       "    </tr>\n",
       "  </tbody>\n",
       "</table>\n",
       "<p>1 rows × 83 columns</p>\n",
       "</div>"
      ],
      "text/plain": [
       "                                    Standard Charges  \\\n",
       "0  [{'Header': 'Lehigh Valley Hospital-Cedar Cres...   \n",
       "\n",
       "                           Minimum & Maximum Allowed  \\\n",
       "0  [{'Payment Type': 'APR DRG', 'Description': 'L...   \n",
       "\n",
       "                                               NCC 4  \\\n",
       "0  [{'Payment Type': 'MS DRG', 'Description': 'HE...   \n",
       "\n",
       "                                               NCC 5  \\\n",
       "0  [{'Header': 'Lehigh Valley Hospital-Cedar Cres...   \n",
       "\n",
       "                                           NCC 5 RCH  \\\n",
       "0  [{'Header': 'Lehigh Valley Hospital-Reilly Chi...   \n",
       "\n",
       "                                               NCC 6  \\\n",
       "0  [{'Header': 'Lehigh Valley Hospital-Cedar Cres...   \n",
       "\n",
       "                                               NCC 9  \\\n",
       "0  [{'Payment Type': 'MS DRG', 'Description': 'HE...   \n",
       "\n",
       "                                              NCC 14  \\\n",
       "0  [{'Header': 'Lehigh Valley Hospital-Cedar Cres...   \n",
       "\n",
       "                                          NCC 14 RCH  \\\n",
       "0  [{'Header': 'Lehigh Valley Hospital-Reilly Chi...   \n",
       "\n",
       "                                              NCC 15  ...  \\\n",
       "0  [{'Payment Type': 'MS DRG', 'Description': 'HE...  ...   \n",
       "\n",
       "                                             NCC 484  \\\n",
       "0  [{'Header': 'Lehigh Valley Hospital-Hecktown O...   \n",
       "\n",
       "                                             NCC 485  \\\n",
       "0  [{'Header': 'Lehigh Valley Hospital-Hecktown O...   \n",
       "\n",
       "                                             NCC 486  \\\n",
       "0  [{'Payment Type': 'MS DRG', 'Description': 'HE...   \n",
       "\n",
       "                                             NCC 494  \\\n",
       "0  [{'Payment Type': 'APR DRG', 'Description': 'L...   \n",
       "\n",
       "                                             NCC 499  \\\n",
       "0  [{'Payment Type': 'PER DIEM', 'Description': '...   \n",
       "\n",
       "                                             NCC 526  \\\n",
       "0  [{'Header': 'Lehigh Valley Hospital-Carbon', '...   \n",
       "\n",
       "                                             NCC 535  \\\n",
       "0  [{'Header': 'Lehigh Valley Hospital-Coordinate...   \n",
       "\n",
       "                                             NCC 536  \\\n",
       "0  [{'Payment Type': 'MS DRG', 'Description': 'HE...   \n",
       "\n",
       "                                             NCC 571  \\\n",
       "0  [{'Payment Type': 'MS DRG', 'Description': 'HE...   \n",
       "\n",
       "                                             NCC 574  \n",
       "0  [{'Payment Type': 'APR DRG', 'Description': 'L...  \n",
       "\n",
       "[1 rows x 83 columns]"
      ]
     },
     "execution_count": 2,
     "metadata": {},
     "output_type": "execute_result"
    }
   ],
   "source": [
    "%%sql\n",
    "SELECT * FROM read_json_auto('/Users/me/data/payless_health/231689692_Lehigh_Valley_Hospital_StandardCharges.JSON.ISO-8859-1.utf8', records=true, maximum_object_size=500000000)"
   ]
  },
  {
   "cell_type": "markdown",
   "metadata": {},
   "source": [
    "# Parsing this json with `jq` \n",
    "\n",
    "1. Install `jq` with homebrew\n",
    "2. Test it out with `jq . 230831-lehigh-valley.json`\n",
    "3. Use `jq` to extract the `data` array: `jq .data 230831-lehigh-valley.json`\n",
    "4. Use `jq` to extract the `data` array and write it to a file: `jq .data 230831-lehigh-valley.json > 230831-lehigh-valley.json`\n",
    "5. Use `jq.py` (https://github.com/mwilliamson/jq.py) in python to process the 83 columns.\n",
    "\n",
    "## Copilot prompt\n",
    "\n",
    "`jq` command to retrieve column names from the json file:\n",
    "````\n",
    "jq .data[0] 230831-lehigh-valley.json\n",
    "````\n",
    "\n",
    "## Claude prompt\n",
    "````\n",
    "please write a jq command to retrieve the 83 columns names from the json file at /Users/me/data/payless_health/231689692_Lehigh_Valley_Hospital_StandardCharges.ISO-8859-1.utf8.nobackslash.JSON where the column names are at the top level and followed by lists.\n",
    "````\n",
    "\n",
    "Claude response:\n",
    "```\n",
    "jq -r 'keys | .[]' /Users/me/data/payless_health/231689692_Lehigh_Valley_Hospital_StandardCharges.ISO-8859-1.utf8.nobackslash.JSON   \n",
    "```\n",
    "\n",
    "\n"
   ]
  },
  {
   "cell_type": "code",
   "execution_count": 15,
   "metadata": {},
   "outputs": [
    {
     "name": "stdout",
     "output_type": "stream",
     "text": [
      "Minimum & Maximum Allowed\n",
      "NCC 100\n",
      "NCC 102\n",
      "NCC 105\n",
      "NCC 108\n",
      "NCC 117\n",
      "NCC 128\n",
      "NCC 133\n",
      "NCC 14\n",
      "NCC 14 RCH\n",
      "NCC 148\n",
      "NCC 15\n",
      "NCC 151\n",
      "NCC 153\n",
      "NCC 157\n",
      "NCC 171\n",
      "NCC 19\n",
      "NCC 26\n",
      "NCC 265\n",
      "NCC 269\n",
      "NCC 269 RCH\n",
      "NCC 270\n",
      "NCC 270 RCH\n",
      "NCC 285\n",
      "NCC 286\n",
      "NCC 298\n",
      "NCC 299\n",
      "NCC 31\n",
      "NCC 33\n",
      "NCC 333\n",
      "NCC 350\n",
      "NCC 350 MHC\n",
      "NCC 359\n",
      "NCC 378\n",
      "NCC 38\n",
      "NCC 4\n",
      "NCC 42\n",
      "NCC 421\n",
      "NCC 421 RCH\n",
      "NCC 422\n",
      "NCC 422 RCH\n",
      "NCC 423\n",
      "NCC 429\n",
      "NCC 43 HO\n",
      "NCC 43 LVH\n",
      "NCC 43 MHC\n",
      "NCC 43 RCH\n",
      "NCC 432\n",
      "NCC 44\n",
      "NCC 447\n",
      "NCC 474\n",
      "NCC 475\n",
      "NCC 484\n",
      "NCC 485\n",
      "NCC 486\n",
      "NCC 494\n",
      "NCC 499\n",
      "NCC 5\n",
      "NCC 5 RCH\n",
      "NCC 52\n",
      "NCC 526\n",
      "NCC 53\n",
      "NCC 535\n",
      "NCC 536\n",
      "NCC 57\n",
      "NCC 571\n",
      "NCC 574\n",
      "NCC 59\n",
      "NCC 6\n",
      "NCC 62\n",
      "NCC 64\n",
      "NCC 66\n",
      "NCC 70\n",
      "NCC 73\n",
      "NCC 77\n",
      "NCC 78\n",
      "NCC 80\n",
      "NCC 80 RCH\n",
      "NCC 82\n",
      "NCC 87\n",
      "NCC 9\n",
      "NCC 98\n",
      "Standard Charges\n"
     ]
    }
   ],
   "source": [
    "!jq -r 'keys | .[]' /Users/me/data/payless_health/231689692_Lehigh_Valley_Hospital_StandardCharges.ISO-8859-1.utf8.nobackslash.JSON   "
   ]
  },
  {
   "cell_type": "markdown",
   "metadata": {},
   "source": [
    "Claude prompt:\n",
    "```\n",
    "one of the top level keys is NCC 14, please select the records for only this key and print the first 10 records in it using `jq`\n",
    "\n",
    "```"
   ]
  },
  {
   "cell_type": "code",
   "execution_count": 18,
   "metadata": {},
   "outputs": [
    {
     "name": "stdout",
     "output_type": "stream",
     "text": [
      "\u001b[1;39m[\n",
      "  \u001b[1;39m{\n",
      "    \u001b[0m\u001b[34;1m\"Header\"\u001b[0m\u001b[1;39m: \u001b[0m\u001b[0;32m\"Lehigh Valley Hospital-Cedar Crest\"\u001b[0m\u001b[1;39m\n",
      "  \u001b[1;39m}\u001b[0m\u001b[1;39m,\n",
      "  \u001b[1;39m{\n",
      "    \u001b[0m\u001b[34;1m\"Header\"\u001b[0m\u001b[1;39m: \u001b[0m\u001b[0;32m\"Lehigh Valley Hospital-Muhlenberg\"\u001b[0m\u001b[1;39m\n",
      "  \u001b[1;39m}\u001b[0m\u001b[1;39m,\n",
      "  \u001b[1;39m{\n",
      "    \u001b[0m\u001b[34;1m\"Header\"\u001b[0m\u001b[1;39m: \u001b[0m\u001b[0;32m\"Lehigh Valley Hospital-Tilghman Surgery Center\"\u001b[0m\u001b[1;39m\n",
      "  \u001b[1;39m}\u001b[0m\u001b[1;39m,\n",
      "  \u001b[1;39m{\n",
      "    \u001b[0m\u001b[34;1m\"Header\"\u001b[0m\u001b[1;39m: \u001b[0m\u001b[0;32m\"Lehigh Valley Hospital-17th Street\"\u001b[0m\u001b[1;39m\n",
      "  \u001b[1;39m}\u001b[0m\u001b[1;39m,\n",
      "  \u001b[1;39m{\n",
      "    \u001b[0m\u001b[34;1m\"Payment Type\"\u001b[0m\u001b[1;39m: \u001b[0m\u001b[0;32m\"MS DRG\"\u001b[0m\u001b[1;39m,\n",
      "    \u001b[0m\u001b[34;1m\"Description\"\u001b[0m\u001b[1;39m: \u001b[0m\u001b[0;32m\"HEART TRANSPLANT OR IMPLANT OF HEART ASSIST SYSTEM WITH MCC\"\u001b[0m\u001b[1;39m,\n",
      "    \u001b[0m\u001b[34;1m\"Billing Code\"\u001b[0m\u001b[1;39m: \u001b[0m\u001b[0;32m\"MS001\"\u001b[0m\u001b[1;39m,\n",
      "    \u001b[0m\u001b[34;1m\"Payor:CAPITAL_BLUE_CROSS_Plan:CBC_KEYSTONE_HEALTH_PLAN_CENTRAL_KIDS_IP\"\u001b[0m\u001b[1;39m: \u001b[0m\u001b[0;32m\"$245,068.11\"\u001b[0m\u001b[1;39m,\n",
      "    \u001b[0m\u001b[34;1m\"Payor:CAPITAL_BLUE_CROSS_Plan:CBC_KEYSTONE_HEALTH_PLAN_CENTRAL_KIDS_OP\"\u001b[0m\u001b[1;39m: \u001b[0m\u001b[0;32m\"N/A\"\u001b[0m\u001b[1;39m\n",
      "  \u001b[1;39m}\u001b[0m\u001b[1;39m,\n",
      "  \u001b[1;39m{\n",
      "    \u001b[0m\u001b[34;1m\"Payment Type\"\u001b[0m\u001b[1;39m: \u001b[0m\u001b[0;32m\"MS DRG\"\u001b[0m\u001b[1;39m,\n",
      "    \u001b[0m\u001b[34;1m\"Description\"\u001b[0m\u001b[1;39m: \u001b[0m\u001b[0;32m\"HEART TRANSPLANT OR IMPLANT OF HEART ASSIST SYSTEM WITHOUT MCC\"\u001b[0m\u001b[1;39m,\n",
      "    \u001b[0m\u001b[34;1m\"Billing Code\"\u001b[0m\u001b[1;39m: \u001b[0m\u001b[0;32m\"MS002\"\u001b[0m\u001b[1;39m,\n",
      "    \u001b[0m\u001b[34;1m\"Payor:CAPITAL_BLUE_CROSS_Plan:CBC_KEYSTONE_HEALTH_PLAN_CENTRAL_KIDS_IP\"\u001b[0m\u001b[1;39m: \u001b[0m\u001b[0;32m\"$146,820.91\"\u001b[0m\u001b[1;39m,\n",
      "    \u001b[0m\u001b[34;1m\"Payor:CAPITAL_BLUE_CROSS_Plan:CBC_KEYSTONE_HEALTH_PLAN_CENTRAL_KIDS_OP\"\u001b[0m\u001b[1;39m: \u001b[0m\u001b[0;32m\"N/A\"\u001b[0m\u001b[1;39m\n",
      "  \u001b[1;39m}\u001b[0m\u001b[1;39m,\n",
      "  \u001b[1;39m{\n",
      "    \u001b[0m\u001b[34;1m\"Payment Type\"\u001b[0m\u001b[1;39m: \u001b[0m\u001b[0;32m\"MS DRG\"\u001b[0m\u001b[1;39m,\n",
      "    \u001b[0m\u001b[34;1m\"Description\"\u001b[0m\u001b[1;39m: \u001b[0m\u001b[0;32m\"ECMO OR TRACHEOSTOMY WITH MV >96 HOURS OR PRINCIPAL DIAGNOSIS EXCEPT FACE, MOUTH AND NECK WITH MAJOR O.R. PROCEDURES\"\u001b[0m\u001b[1;39m,\n",
      "    \u001b[0m\u001b[34;1m\"Billing Code\"\u001b[0m\u001b[1;39m: \u001b[0m\u001b[0;32m\"MS003\"\u001b[0m\u001b[1;39m,\n",
      "    \u001b[0m\u001b[34;1m\"Payor:CAPITAL_BLUE_CROSS_Plan:CBC_KEYSTONE_HEALTH_PLAN_CENTRAL_KIDS_IP\"\u001b[0m\u001b[1;39m: \u001b[0m\u001b[0;32m\"$169,723.94\"\u001b[0m\u001b[1;39m,\n",
      "    \u001b[0m\u001b[34;1m\"Payor:CAPITAL_BLUE_CROSS_Plan:CBC_KEYSTONE_HEALTH_PLAN_CENTRAL_KIDS_OP\"\u001b[0m\u001b[1;39m: \u001b[0m\u001b[0;32m\"N/A\"\u001b[0m\u001b[1;39m\n",
      "  \u001b[1;39m}\u001b[0m\u001b[1;39m,\n",
      "  \u001b[1;39m{\n",
      "    \u001b[0m\u001b[34;1m\"Payment Type\"\u001b[0m\u001b[1;39m: \u001b[0m\u001b[0;32m\"MS DRG\"\u001b[0m\u001b[1;39m,\n",
      "    \u001b[0m\u001b[34;1m\"Description\"\u001b[0m\u001b[1;39m: \u001b[0m\u001b[0;32m\"TRACHEOSTOMY WITH MV >96 HOURS OR PRINCIPAL DIAGNOSIS EXCEPT FACE, MOUTH AND NECK WITHOUT MAJOR O.R. PROCEDURES\"\u001b[0m\u001b[1;39m,\n",
      "    \u001b[0m\u001b[34;1m\"Billing Code\"\u001b[0m\u001b[1;39m: \u001b[0m\u001b[0;32m\"MS004\"\u001b[0m\u001b[1;39m,\n",
      "    \u001b[0m\u001b[34;1m\"Payor:CAPITAL_BLUE_CROSS_Plan:CBC_KEYSTONE_HEALTH_PLAN_CENTRAL_KIDS_IP\"\u001b[0m\u001b[1;39m: \u001b[0m\u001b[0;32m\"$106,568.47\"\u001b[0m\u001b[1;39m,\n",
      "    \u001b[0m\u001b[34;1m\"Payor:CAPITAL_BLUE_CROSS_Plan:CBC_KEYSTONE_HEALTH_PLAN_CENTRAL_KIDS_OP\"\u001b[0m\u001b[1;39m: \u001b[0m\u001b[0;32m\"N/A\"\u001b[0m\u001b[1;39m\n",
      "  \u001b[1;39m}\u001b[0m\u001b[1;39m,\n",
      "  \u001b[1;39m{\n",
      "    \u001b[0m\u001b[34;1m\"Payment Type\"\u001b[0m\u001b[1;39m: \u001b[0m\u001b[0;32m\"MS DRG\"\u001b[0m\u001b[1;39m,\n",
      "    \u001b[0m\u001b[34;1m\"Description\"\u001b[0m\u001b[1;39m: \u001b[0m\u001b[0;32m\"LIVER TRANSPLANT WITH MCC OR INTESTINAL TRANSPLANT\"\u001b[0m\u001b[1;39m,\n",
      "    \u001b[0m\u001b[34;1m\"Billing Code\"\u001b[0m\u001b[1;39m: \u001b[0m\u001b[0;32m\"MS005\"\u001b[0m\u001b[1;39m,\n",
      "    \u001b[0m\u001b[34;1m\"Payor:CAPITAL_BLUE_CROSS_Plan:CBC_KEYSTONE_HEALTH_PLAN_CENTRAL_KIDS_IP\"\u001b[0m\u001b[1;39m: \u001b[0m\u001b[0;32m\"$100,527.57\"\u001b[0m\u001b[1;39m,\n",
      "    \u001b[0m\u001b[34;1m\"Payor:CAPITAL_BLUE_CROSS_Plan:CBC_KEYSTONE_HEALTH_PLAN_CENTRAL_KIDS_OP\"\u001b[0m\u001b[1;39m: \u001b[0m\u001b[0;32m\"N/A\"\u001b[0m\u001b[1;39m\n",
      "  \u001b[1;39m}\u001b[0m\u001b[1;39m,\n",
      "  \u001b[1;39m{\n",
      "    \u001b[0m\u001b[34;1m\"Payment Type\"\u001b[0m\u001b[1;39m: \u001b[0m\u001b[0;32m\"MS DRG\"\u001b[0m\u001b[1;39m,\n",
      "    \u001b[0m\u001b[34;1m\"Description\"\u001b[0m\u001b[1;39m: \u001b[0m\u001b[0;32m\"LIVER TRANSPLANT WITHOUT MCC\"\u001b[0m\u001b[1;39m,\n",
      "    \u001b[0m\u001b[34;1m\"Billing Code\"\u001b[0m\u001b[1;39m: \u001b[0m\u001b[0;32m\"MS006\"\u001b[0m\u001b[1;39m,\n",
      "    \u001b[0m\u001b[34;1m\"Payor:CAPITAL_BLUE_CROSS_Plan:CBC_KEYSTONE_HEALTH_PLAN_CENTRAL_KIDS_IP\"\u001b[0m\u001b[1;39m: \u001b[0m\u001b[0;32m\"$43,352.34\"\u001b[0m\u001b[1;39m,\n",
      "    \u001b[0m\u001b[34;1m\"Payor:CAPITAL_BLUE_CROSS_Plan:CBC_KEYSTONE_HEALTH_PLAN_CENTRAL_KIDS_OP\"\u001b[0m\u001b[1;39m: \u001b[0m\u001b[0;32m\"N/A\"\u001b[0m\u001b[1;39m\n",
      "  \u001b[1;39m}\u001b[0m\u001b[1;39m\n",
      "\u001b[1;39m]\u001b[0m\n"
     ]
    }
   ],
   "source": [
    "!jq '.[\"NCC 14\"] | .[0:10]' /Users/me/data/payless_health/231689692_Lehigh_Valley_Hospital_StandardCharges.ISO-8859-1.utf8.nobackslash.JSON"
   ]
  },
  {
   "cell_type": "markdown",
   "metadata": {},
   "source": [
    "Claude prompt:\n",
    "\n",
    "> write a jq command to retrieve the records that do not have the key \"Header\" from the file /Users/me/data/payless_health/231689692_Lehigh_Valley_Hospital_StandardCharges.ISO-8859-1.utf8.nobackslash.JSON"
   ]
  },
  {
   "cell_type": "markdown",
   "metadata": {},
   "source": [
    "next , print records with out \"HEADER'\" field, or split into 83 files and then skip \"Header\" field with JQ, then split using the colon into values, then ready for duckdb and box and whisker plot\n",
    "\n",
    "\n"
   ]
  },
  {
   "cell_type": "code",
   "execution_count": null,
   "metadata": {},
   "outputs": [],
   "source": []
  }
 ],
 "metadata": {
  "kernelspec": {
   "display_name": "datathinking.org",
   "language": "python",
   "name": "python3"
  },
  "language_info": {
   "codemirror_mode": {
    "name": "ipython",
    "version": 3
   },
   "file_extension": ".py",
   "mimetype": "text/x-python",
   "name": "python",
   "nbconvert_exporter": "python",
   "pygments_lexer": "ipython3",
   "version": "3.11.0"
  },
  "orig_nbformat": 4
 },
 "nbformat": 4,
 "nbformat_minor": 2
}

{
 "cells": [
  {
   "cell_type": "code",
   "execution_count": 1,
   "metadata": {},
   "outputs": [],
   "source": [
    "import pandas as pd"
   ]
  },
  {
   "cell_type": "code",
   "execution_count": 2,
   "metadata": {},
   "outputs": [],
   "source": [
    "df_drg_cost = pd.read_excel('/Users/me/Downloads/TopServices _2022_09252023.xlsx', sheet_name='DRG by Cost', dtype={'drg': str, 'drg_desc': str, 'count': int})"
   ]
  },
  {
   "cell_type": "code",
   "execution_count": 3,
   "metadata": {},
   "outputs": [],
   "source": [
    "df_drg_volume = pd.read_excel('/Users/me/Downloads/TopServices _2022_09252023.xlsx', sheet_name='DRG by Vol', dtype={'drg': str, 'drg_desc': str, 'count': int})"
   ]
  },
  {
   "cell_type": "code",
   "execution_count": 4,
   "metadata": {},
   "outputs": [],
   "source": [
    "df_cpt_cost = pd.read_excel('/Users/me/Downloads/TopServices _2022_09252023.xlsx', sheet_name='CPT by Cost', dtype={'cpt': str, 'count': int})"
   ]
  },
  {
   "cell_type": "code",
   "execution_count": 5,
   "metadata": {},
   "outputs": [],
   "source": [
    "df_cpt_volume = pd.read_excel('/Users/me/Downloads/TopServices _2022_09252023.xlsx', sheet_name='CPT by Cost', dtype={'cpt': str, 'count': int})"
   ]
  },
  {
   "cell_type": "code",
   "execution_count": 6,
   "metadata": {},
   "outputs": [
    {
     "data": {
      "text/html": [
       "<div>\n",
       "<style scoped>\n",
       "    .dataframe tbody tr th:only-of-type {\n",
       "        vertical-align: middle;\n",
       "    }\n",
       "\n",
       "    .dataframe tbody tr th {\n",
       "        vertical-align: top;\n",
       "    }\n",
       "\n",
       "    .dataframe thead th {\n",
       "        text-align: right;\n",
       "    }\n",
       "</style>\n",
       "<table border=\"1\" class=\"dataframe\">\n",
       "  <thead>\n",
       "    <tr style=\"text-align: right;\">\n",
       "      <th></th>\n",
       "      <th>billing_code</th>\n",
       "      <th>description</th>\n",
       "      <th>count</th>\n",
       "    </tr>\n",
       "  </thead>\n",
       "  <tbody>\n",
       "    <tr>\n",
       "      <th>0</th>\n",
       "      <td>871</td>\n",
       "      <td>SEPTICEMIA OR SEVERE SEPSIS WITHOUT MV &gt;96 HOU...</td>\n",
       "      <td>201</td>\n",
       "    </tr>\n",
       "    <tr>\n",
       "      <th>1</th>\n",
       "      <td>885</td>\n",
       "      <td>PSYCHOSES</td>\n",
       "      <td>460</td>\n",
       "    </tr>\n",
       "    <tr>\n",
       "      <th>2</th>\n",
       "      <td>003</td>\n",
       "      <td>ECMO OR TRACHEOSTOMY WITH MV &gt;96 HOURS OR PRIN...</td>\n",
       "      <td>20</td>\n",
       "    </tr>\n",
       "    <tr>\n",
       "      <th>3</th>\n",
       "      <td>621</td>\n",
       "      <td>O.R. PROCEDURES FOR OBESITY WITHOUT CC/MCC</td>\n",
       "      <td>197</td>\n",
       "    </tr>\n",
       "    <tr>\n",
       "      <th>4</th>\n",
       "      <td>807</td>\n",
       "      <td>VAGINAL DELIVERY WITHOUT STERILIZATION OR D&amp;C ...</td>\n",
       "      <td>457</td>\n",
       "    </tr>\n",
       "    <tr>\n",
       "      <th>5</th>\n",
       "      <td>247</td>\n",
       "      <td>PERCUTANEOUS CARDIOVASCULAR PROCEDURES WITH DR...</td>\n",
       "      <td>112</td>\n",
       "    </tr>\n",
       "    <tr>\n",
       "      <th>6</th>\n",
       "      <td>004</td>\n",
       "      <td>TRACHEOSTOMY WITH MV &gt;96 HOURS OR PRINCIPAL DI...</td>\n",
       "      <td>15</td>\n",
       "    </tr>\n",
       "    <tr>\n",
       "      <th>7</th>\n",
       "      <td>177</td>\n",
       "      <td>RESPIRATORY INFECTIONS AND INFLAMMATIONS WITH MCC</td>\n",
       "      <td>94</td>\n",
       "    </tr>\n",
       "    <tr>\n",
       "      <th>8</th>\n",
       "      <td>233</td>\n",
       "      <td>CORONARY BYPASS WITH CARDIAC CATHETERIZATION O...</td>\n",
       "      <td>16</td>\n",
       "    </tr>\n",
       "    <tr>\n",
       "      <th>9</th>\n",
       "      <td>853</td>\n",
       "      <td>INFECTIOUS AND PARASITIC DISEASES WITH O.R. PR...</td>\n",
       "      <td>37</td>\n",
       "    </tr>\n",
       "    <tr>\n",
       "      <th>10</th>\n",
       "      <td>470</td>\n",
       "      <td>MAJOR HIP AND KNEE JOINT REPLACEMENT OR REATTA...</td>\n",
       "      <td>93</td>\n",
       "    </tr>\n",
       "    <tr>\n",
       "      <th>11</th>\n",
       "      <td>329</td>\n",
       "      <td>MAJOR SMALL AND LARGE BOWEL PROCEDURES WITH MCC</td>\n",
       "      <td>34</td>\n",
       "    </tr>\n",
       "    <tr>\n",
       "      <th>12</th>\n",
       "      <td>025</td>\n",
       "      <td>CRANIOTOMY AND ENDOVASCULAR INTRACRANIAL PROCE...</td>\n",
       "      <td>37</td>\n",
       "    </tr>\n",
       "    <tr>\n",
       "      <th>13</th>\n",
       "      <td>219</td>\n",
       "      <td>CARDIAC VALVE AND OTHER MAJOR CARDIOTHORACIC P...</td>\n",
       "      <td>19</td>\n",
       "    </tr>\n",
       "    <tr>\n",
       "      <th>14</th>\n",
       "      <td>790</td>\n",
       "      <td>EXTREME IMMATURITY OR RESPIRATORY DISTRESS SYN...</td>\n",
       "      <td>16</td>\n",
       "    </tr>\n",
       "    <tr>\n",
       "      <th>15</th>\n",
       "      <td>788</td>\n",
       "      <td>CESAREAN SECTION WITHOUT STERILIZATION WITHOUT...</td>\n",
       "      <td>166</td>\n",
       "    </tr>\n",
       "    <tr>\n",
       "      <th>16</th>\n",
       "      <td>246</td>\n",
       "      <td>PERCUTANEOUS CARDIOVASCULAR PROCEDURES WITH DR...</td>\n",
       "      <td>45</td>\n",
       "    </tr>\n",
       "    <tr>\n",
       "      <th>17</th>\n",
       "      <td>291</td>\n",
       "      <td>HEART FAILURE AND SHOCK WITH MCC</td>\n",
       "      <td>115</td>\n",
       "    </tr>\n",
       "    <tr>\n",
       "      <th>18</th>\n",
       "      <td>330</td>\n",
       "      <td>MAJOR SMALL AND LARGE BOWEL PROCEDURES WITH CC</td>\n",
       "      <td>52</td>\n",
       "    </tr>\n",
       "    <tr>\n",
       "      <th>19</th>\n",
       "      <td>460</td>\n",
       "      <td>SPINAL FUSION EXCEPT CERVICAL WITHOUT MCC</td>\n",
       "      <td>31</td>\n",
       "    </tr>\n",
       "    <tr>\n",
       "      <th>20</th>\n",
       "      <td>897</td>\n",
       "      <td>ALCOHOL, DRUG ABUSE OR DEPENDENCE WITHOUT REHA...</td>\n",
       "      <td>625</td>\n",
       "    </tr>\n",
       "    <tr>\n",
       "      <th>21</th>\n",
       "      <td>787</td>\n",
       "      <td>CESAREAN SECTION WITHOUT STERILIZATION WITH CC</td>\n",
       "      <td>110</td>\n",
       "    </tr>\n",
       "    <tr>\n",
       "      <th>22</th>\n",
       "      <td>023</td>\n",
       "      <td>CRANIOTOMY WITH MAJOR DEVICE IMPLANT OR ACUTE ...</td>\n",
       "      <td>14</td>\n",
       "    </tr>\n",
       "    <tr>\n",
       "      <th>23</th>\n",
       "      <td>392</td>\n",
       "      <td>ESOPHAGITIS, GASTROENTERITIS AND MISCELLANEOUS...</td>\n",
       "      <td>115</td>\n",
       "    </tr>\n",
       "    <tr>\n",
       "      <th>24</th>\n",
       "      <td>270</td>\n",
       "      <td>OTHER MAJOR CARDIOVASCULAR PROCEDURES WITH MCC</td>\n",
       "      <td>16</td>\n",
       "    </tr>\n",
       "    <tr>\n",
       "      <th>25</th>\n",
       "      <td>872</td>\n",
       "      <td>SEPTICEMIA OR SEVERE SEPSIS WITHOUT MV &gt;96 HOU...</td>\n",
       "      <td>99</td>\n",
       "    </tr>\n",
       "    <tr>\n",
       "      <th>26</th>\n",
       "      <td>454</td>\n",
       "      <td>COMBINED ANTERIOR AND POSTERIOR SPINAL FUSION ...</td>\n",
       "      <td>15</td>\n",
       "    </tr>\n",
       "  </tbody>\n",
       "</table>\n",
       "</div>"
      ],
      "text/plain": [
       "   billing_code                                        description  count\n",
       "0           871  SEPTICEMIA OR SEVERE SEPSIS WITHOUT MV >96 HOU...    201\n",
       "1           885                                          PSYCHOSES    460\n",
       "2           003  ECMO OR TRACHEOSTOMY WITH MV >96 HOURS OR PRIN...     20\n",
       "3           621         O.R. PROCEDURES FOR OBESITY WITHOUT CC/MCC    197\n",
       "4           807  VAGINAL DELIVERY WITHOUT STERILIZATION OR D&C ...    457\n",
       "5           247  PERCUTANEOUS CARDIOVASCULAR PROCEDURES WITH DR...    112\n",
       "6           004  TRACHEOSTOMY WITH MV >96 HOURS OR PRINCIPAL DI...     15\n",
       "7           177  RESPIRATORY INFECTIONS AND INFLAMMATIONS WITH MCC     94\n",
       "8           233  CORONARY BYPASS WITH CARDIAC CATHETERIZATION O...     16\n",
       "9           853  INFECTIOUS AND PARASITIC DISEASES WITH O.R. PR...     37\n",
       "10          470  MAJOR HIP AND KNEE JOINT REPLACEMENT OR REATTA...     93\n",
       "11          329    MAJOR SMALL AND LARGE BOWEL PROCEDURES WITH MCC     34\n",
       "12          025  CRANIOTOMY AND ENDOVASCULAR INTRACRANIAL PROCE...     37\n",
       "13          219  CARDIAC VALVE AND OTHER MAJOR CARDIOTHORACIC P...     19\n",
       "14          790  EXTREME IMMATURITY OR RESPIRATORY DISTRESS SYN...     16\n",
       "15          788  CESAREAN SECTION WITHOUT STERILIZATION WITHOUT...    166\n",
       "16          246  PERCUTANEOUS CARDIOVASCULAR PROCEDURES WITH DR...     45\n",
       "17          291                   HEART FAILURE AND SHOCK WITH MCC    115\n",
       "18          330     MAJOR SMALL AND LARGE BOWEL PROCEDURES WITH CC     52\n",
       "19          460          SPINAL FUSION EXCEPT CERVICAL WITHOUT MCC     31\n",
       "20          897  ALCOHOL, DRUG ABUSE OR DEPENDENCE WITHOUT REHA...    625\n",
       "21          787     CESAREAN SECTION WITHOUT STERILIZATION WITH CC    110\n",
       "22          023  CRANIOTOMY WITH MAJOR DEVICE IMPLANT OR ACUTE ...     14\n",
       "23          392  ESOPHAGITIS, GASTROENTERITIS AND MISCELLANEOUS...    115\n",
       "24          270     OTHER MAJOR CARDIOVASCULAR PROCEDURES WITH MCC     16\n",
       "25          872  SEPTICEMIA OR SEVERE SEPSIS WITHOUT MV >96 HOU...     99\n",
       "26          454  COMBINED ANTERIOR AND POSTERIOR SPINAL FUSION ...     15"
      ]
     },
     "execution_count": 6,
     "metadata": {},
     "output_type": "execute_result"
    }
   ],
   "source": [
    "df_drg_cost[['drg', 'drg_desc', 'count']].rename(columns={'drg': 'billing_code', 'drg_desc': 'description'})"
   ]
  },
  {
   "cell_type": "code",
   "execution_count": 8,
   "metadata": {},
   "outputs": [],
   "source": [
    "df_categories = pd.read_parquet('/Users/me/data/payless_health/billing_codes.parquet')"
   ]
  },
  {
   "cell_type": "code",
   "execution_count": 12,
   "metadata": {},
   "outputs": [],
   "source": [
    "billing_code_to_category = {billing_code: category for billing_code, category in df_categories[['billing_code', 'category']].values}"
   ]
  },
  {
   "cell_type": "code",
   "execution_count": 15,
   "metadata": {},
   "outputs": [],
   "source": [
    "df_drg_cost['category'] = df_drg_cost['drg'].apply(lambda x: billing_code_to_category.get(x, 'unknown'))\n",
    "df_drg_volume['category'] = df_drg_volume['drg'].apply(lambda x: billing_code_to_category.get(x, 'unknown'))"
   ]
  },
  {
   "cell_type": "code",
   "execution_count": 7,
   "metadata": {},
   "outputs": [],
   "source": [
    "df_drg_cost[['drg', 'drg_desc', 'count', 'category']].rename(columns={'drg': 'billing_code', 'drg_desc': 'description'}).to_parquet('/Users/me/data/payless_health/top_drg_by_cost.parquet', index=False)"
   ]
  },
  {
   "cell_type": "code",
   "execution_count": 16,
   "metadata": {},
   "outputs": [],
   "source": [
    "df_drg_volume[['drg', 'drg_desc', 'count', 'category']].rename(columns={'drg': 'billing_code', 'drg_desc': 'description'}).to_parquet('/Users/me/data/payless_health/top_drg_by_volume.parquet', index=False)"
   ]
  },
  {
   "cell_type": "code",
   "execution_count": 18,
   "metadata": {},
   "outputs": [],
   "source": [
    "df_cpt_cost[['cpt', 'hcpcs_desc', 'CPT_category', 'count']].rename(columns={'cpt': 'billing_code', 'CPT_category': 'category', 'hcpcs_desc': 'description'}).to_parquet('/Users/me/data/payless_health/top_cpt_by_cost.parquet', index=False)"
   ]
  },
  {
   "cell_type": "code",
   "execution_count": 17,
   "metadata": {},
   "outputs": [],
   "source": [
    "df_cpt_volume[['cpt', 'hcpcs_desc', 'CPT_category', 'count']].rename(columns={'cpt': 'billing_code', 'CPT_category': 'category', 'hcpcs_desc': 'description'}).to_parquet('/Users/me/data/payless_health/top_cpt_by_volume.parquet', index=False)"
   ]
  },
  {
   "cell_type": "code",
   "execution_count": null,
   "metadata": {},
   "outputs": [],
   "source": []
  }
 ],
 "metadata": {
  "kernelspec": {
   "display_name": "datathinking.org",
   "language": "python",
   "name": "python3"
  },
  "language_info": {
   "codemirror_mode": {
    "name": "ipython",
    "version": 3
   },
   "file_extension": ".py",
   "mimetype": "text/x-python",
   "name": "python",
   "nbconvert_exporter": "python",
   "pygments_lexer": "ipython3",
   "version": "3.11.0"
  },
  "orig_nbformat": 4
 },
 "nbformat": 4,
 "nbformat_minor": 2
}
